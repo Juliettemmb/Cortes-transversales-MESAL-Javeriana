{
 "cells": [
  {
   "cell_type": "markdown",
   "metadata": {},
   "source": [
    "# Introducción Python "
   ]
  },
  {
   "cell_type": "markdown",
   "metadata": {},
   "source": [
    "Autores : Cindee Madison, Thomas Kluyver (https://bids.github.io/2016-01-14-berkeley/python/00-python-intro.html)\n",
    "\n",
    "Gracias a: Justin Kitzes, Matt Davis\n",
    "\n",
    "Traducción y extensiones por: Santiago Alonso"
   ]
  },
  {
   "cell_type": "markdown",
   "metadata": {
    "toc-hr-collapsed": true,
    "toc-nb-collapsed": true
   },
   "source": [
    "## 1. VARIABLES \n",
    "\n",
    "El componente más básico de cualquier lenguaje de programación son \"cosas\" o (en casos especiales) objetos\n",
    "\n",
    "Las \"cosas\" básicas más comunes en Python son: \n",
    "- integer\n",
    "- float \n",
    "- strings \n",
    "- booleans \n",
    "- Otros (e.g. pandas dataframes, numpy array). Conoceremos muchos de estos a medida que avancemos en la lección.\n"
   ]
  },
  {
   "cell_type": "markdown",
   "metadata": {},
   "source": [
    "__TIP:__ Este tutorial está hecho en un jupyter notebook. Para correr rápidamente el código de una celda del notebook, presione shift + enter."
   ]
  },
  {
   "cell_type": "markdown",
   "metadata": {},
   "source": [
    "__TIP:__ Para añadir una nueva celda oprima el signo + en el menu de arriba. Cambie el tipo de celda a Markdown, Code, o Raw dependiendo de lo que desee. "
   ]
  },
  {
   "cell_type": "code",
   "execution_count": null,
   "metadata": {},
   "outputs": [],
   "source": [
    "# Una \"cosa\" (integer)\n",
    "2"
   ]
  },
  {
   "cell_type": "code",
   "execution_count": null,
   "metadata": {},
   "outputs": [],
   "source": [
    "# Use la función print para imprimir multiples \"cosas\"\n",
    "# Note que puede usar comillas dobles o sencillas para strings\n",
    "print(2)\n",
    "print(\"hola mundo\")\n",
    "print('hola mundo')"
   ]
  },
  {
   "cell_type": "code",
   "execution_count": null,
   "metadata": {
    "collapsed": false,
    "jupyter": {
     "outputs_hidden": false
    }
   },
   "outputs": [],
   "source": [
    "# La función type nos dice el tipo de la cosa \n",
    "print(type(a))\n",
    "print(type(b))\n",
    "print(type(c))"
   ]
  },
  {
   "cell_type": "code",
   "execution_count": null,
   "metadata": {},
   "outputs": [],
   "source": [
    "# Las \"cosas\" pueden guardarse en variables\n",
    "a = 2\n",
    "b = 'hello'\n",
    "c = True  # This is case sensitive\n",
    "print(a, b, c)"
   ]
  },
  {
   "cell_type": "markdown",
   "metadata": {},
   "source": [
    "### <span style=\"color:purple\">Ahora usted</span>\n",
    "Haga tres variables con los nombres y tipos que usted quiera. Para hacerlo, cree una celda de código abajo de esta"
   ]
  },
  {
   "cell_type": "markdown",
   "metadata": {
    "toc-hr-collapsed": true,
    "toc-nb-collapsed": true
   },
   "source": [
    "## 2. COMANDOS QUE OPERAN SOBRE LAS \"COSAS\"\n",
    "\n",
    "Solo guardar información en variables no es muy útil. Queremos hacer operaciones y manipulaciones sobre esa data y variables.\n",
    "\n",
    "Hay muchas formas de hacer operaciones. Veamos tres muy comunes."
   ]
  },
  {
   "cell_type": "markdown",
   "metadata": {},
   "source": [
    "### 2.1 Operadores\n",
    "\n",
    "Hay operadores de varios tipos. Tal vez los que todos conocemos bien son los usuales operadores matemáticos (e.g. +). En python, aplicados a números (int o float), funcionan como esperaríamos.\n",
    "\n",
    "Hay otros operadores, por ejemplo booleanos. Veamos algunos ejemplos a continuación.\n"
   ]
  },
  {
   "cell_type": "code",
   "execution_count": null,
   "metadata": {
    "collapsed": false,
    "jupyter": {
     "outputs_hidden": false
    }
   },
   "outputs": [],
   "source": [
    "# Los operadores matemáticos funcionan en números como esperamos\n",
    "a = 2\n",
    "b = 3\n",
    "print(a + b)\n",
    "print(a * b)\n",
    "print(a ** b)  # a elevado a la b (PRECAUCIÓN: diferencia con R: a^b hace otra cosa)\n",
    "print(a / b)   # Usemos Python 3; en Python 2 es diferente"
   ]
  },
  {
   "cell_type": "code",
   "execution_count": null,
   "metadata": {
    "collapsed": false,
    "jupyter": {
     "outputs_hidden": false
    }
   },
   "outputs": [],
   "source": [
    "# Algunos operadores también se pueden usar con strings\n",
    "print('hello' + 'world')\n",
    "print('hello' * 3)\n",
    "#print('hello' / 3)  # You can't do this!"
   ]
  },
  {
   "cell_type": "code",
   "execution_count": null,
   "metadata": {
    "collapsed": false,
    "jupyter": {
     "outputs_hidden": false
    }
   },
   "outputs": [],
   "source": [
    "# Los operadores Booleanos comparan \"cosas\" \n",
    "a = (1 > 3)\n",
    "b = (3 == 3)\n",
    "c = 'vaca' == 'Vaca' \n",
    "d = 'vaca' == 'vaca'\n",
    "print(a)\n",
    "print(b)\n",
    "print(c)\n",
    "print(d)\n",
    "print(a or b)\n",
    "print(a and b)"
   ]
  },
  {
   "cell_type": "markdown",
   "metadata": {},
   "source": [
    "### 2.2 Funciones\n",
    "\n",
    "Son grupos de instrucciones que transforman el input deseado. "
   ]
  },
  {
   "cell_type": "code",
   "execution_count": null,
   "metadata": {
    "collapsed": false,
    "jupyter": {
     "outputs_hidden": false
    }
   },
   "outputs": [],
   "source": [
    "# Hay miles de funciones que operan sobre \"cosas\"\n",
    "print(type(3))\n",
    "print(len('hello'))\n",
    "print(round(3.3))"
   ]
  },
  {
   "cell_type": "markdown",
   "metadata": {},
   "source": [
    "__TIP:__ Para saber qué hace una función, escriba el nombre de la función seguido de el signo de pregunta."
   ]
  },
  {
   "cell_type": "code",
   "execution_count": null,
   "metadata": {
    "collapsed": false,
    "jupyter": {
     "outputs_hidden": false
    }
   },
   "outputs": [],
   "source": [
    "round?\n",
    "round(3.14159, 2)"
   ]
  },
  {
   "cell_type": "markdown",
   "metadata": {},
   "source": [
    "__TIP:__ Muchas funciones no están incluidas en la instalación base de Python. Hay paquetes científicos que hay que instalar e importar manualmente. Aprenderemos de algunos importantes en este curso."
   ]
  },
  {
   "cell_type": "code",
   "execution_count": null,
   "metadata": {
    "collapsed": false,
    "jupyter": {
     "outputs_hidden": false
    }
   },
   "outputs": [],
   "source": [
    "# Muchas funciones importantes están en paquetes externos. \n",
    "# Conozcamos numpy y pandas\n",
    "import numpy as np  #le pusimos a numpy un apodo \"np\", para acortar cuando lo usamos\n",
    "import pandas as pd"
   ]
  },
  {
   "cell_type": "code",
   "execution_count": null,
   "metadata": {
    "collapsed": false,
    "jupyter": {
     "outputs_hidden": false
    }
   },
   "outputs": [],
   "source": [
    "# Para ver las funciones que tiene un paquete, escriba el nombre/apodo seguido de un punto y oprima tab.\n",
    "# También, vaya a foros como stackoverflow cuando tenga dudas o errores\n",
    "# pd?\n",
    "# pd."
   ]
  },
  {
   "cell_type": "code",
   "execution_count": null,
   "metadata": {
    "collapsed": false,
    "jupyter": {
     "outputs_hidden": false
    }
   },
   "outputs": [],
   "source": [
    "# Algunos ejemplos de funciones y 'cosas' en numpy \n",
    "print(np.sqrt(4))\n",
    "print(np.pi)  # No es una función, es una variable\n",
    "print(np.sin(np.pi))"
   ]
  },
  {
   "cell_type": "markdown",
   "metadata": {},
   "source": [
    "### 2.3 Métodos\n",
    "\n",
    "Ya es momento de dejar hablar de 'cosas'. En python hay objetos de diferentes clases. Antes nos referíamos a int, strings, o arrays numpy como \"cosas\" pero de hecho son objetos de clase int, de clase string, y de clase numpy. \n",
    "\n",
    "En los términos más sencillos, piense un objeto como una colección de data y funciones. Las funciones las llamaremos métodos y la sintaxis es diferente. En vez de `function(arguments)`, los métodos se usan `variable.method(arguments)`\n",
    "\n",
    "Por ejemplo, strings son objetos donde la data son caracteres, con varios métodos aplicables a esa data. "
   ]
  },
  {
   "cell_type": "code",
   "execution_count": null,
   "metadata": {
    "collapsed": false,
    "jupyter": {
     "outputs_hidden": false
    }
   },
   "outputs": [],
   "source": [
    "# Un string es un objeto \n",
    "a = 'hola, mundo'\n",
    "print(type(a))"
   ]
  },
  {
   "cell_type": "code",
   "execution_count": null,
   "metadata": {
    "collapsed": false,
    "jupyter": {
     "outputs_hidden": false
    }
   },
   "outputs": [],
   "source": [
    "# Los objetos tienen varios métodos; depende de la clase. Los métodos para strings son diferentes a los de int o numpy\n",
    "#a. #para ver los métodos y data/valores dentro del objeto a\n",
    "print(a.capitalize())\n",
    "print(a.replace('l', 'X'))"
   ]
  },
  {
   "cell_type": "markdown",
   "metadata": {},
   "source": [
    "### EJERCICIO 1 - Conversión\n",
    "\n",
    "En este tutorial, vamos a construir poco a poco un programa que calcule la varianza de alturas. La data está en pies, así que lo primero es convertirla a metros. Por el momento, solo convertiremos un valor. Este es el factor de conversión: \n",
    "\n",
    "## $inch = \\frac{metre}{39}$\n",
    "\n",
    "1. Cree una celda de code abajo de esta. En esa celda haga lo siguiente.\n",
    "1. Cree una variable llamada `inches_in_metre` que indique cuantos inches hay en un metro.\n",
    "1. Cree una variable (`inches`) con cualquier valor en inches.\n",
    "2. Divida `inches` por `inches_in_metre`, y guarde el resultado en una nueva variable `metres`.\n",
    "1. Imprima el resultado en pantalla"
   ]
  },
  {
   "cell_type": "markdown",
   "metadata": {
    "toc-hr-collapsed": true,
    "toc-nb-collapsed": true
   },
   "source": [
    "## 3. COLECCIÓN DE OBJETOS\n",
    "\n",
    "En el anterior ejercicio, manipulamos un valor. En ciencia de datos, incluyendo economía, tenemos datos más complejos. En el ejemplo que estamos construyendo nos interesa las características y distribución de varias alturas. Python tiene varios objetos que nos permite manipular colecciones de objetos.\n",
    "\n",
    "Casi con certeza, su trabajo científico en Python va a usar alguno de estos objetos: `lists`, `tuples`, `dictionaries`, `numpy arrays`, `pandas dataframes`. Miremos cada uno de ellos para que pueden servirle\n"
   ]
  },
  {
   "cell_type": "markdown",
   "metadata": {},
   "source": [
    "### 3.1 Lists\n",
    "\n",
    "Las lists son probablemente los contenedores de objetos más flexibles. \n",
    "\n",
    "Las lists se declaran con corchetes cuadrados []. \n",
    "\n",
    "Elementos individuales en una lista se pueden seleccionar con la sintaxis `a[ind]`."
   ]
  },
  {
   "cell_type": "code",
   "execution_count": null,
   "metadata": {
    "collapsed": false,
    "jupyter": {
     "outputs_hidden": false
    }
   },
   "outputs": [],
   "source": [
    "# Las listas son creadas con corchetes cuadrados \n",
    "a = ['blueberry', 'strawberry', 'pineapple']\n",
    "print(a, type(a))"
   ]
  },
  {
   "cell_type": "code",
   "execution_count": null,
   "metadata": {
    "collapsed": false,
    "jupyter": {
     "outputs_hidden": false
    }
   },
   "outputs": [],
   "source": [
    "# Las listas, y en general cualquier objeto que tenga varios elementos, se indexan con corchetes cuadrados\n",
    "# NOTA IMPORTANTE: El primer indice es zero no uno \n",
    "print(a[0])\n",
    "print(a[1])"
   ]
  },
  {
   "cell_type": "code",
   "execution_count": null,
   "metadata": {
    "collapsed": false,
    "jupyter": {
     "outputs_hidden": false
    }
   },
   "outputs": [],
   "source": [
    "## Puede indexar contando desde el ultimo elemento de la lista usando indices negativos\n",
    "print('último item es:', a[-1])\n",
    "print('penúltimo item es:', a[-2])"
   ]
  },
  {
   "cell_type": "code",
   "execution_count": null,
   "metadata": {
    "collapsed": false,
    "jupyter": {
     "outputs_hidden": false
    }
   },
   "outputs": [],
   "source": [
    "# Puede acceder a varios items de la lista a la vez con slicing, con dos puntos entre los indices\n",
    "# NOTA: El ultimo valor no se incluye (per ejemplo en 0:2, no incluye el indice 2, va hasta el indice 1)\n",
    "print('a =', a)\n",
    "print('get first two:', a[0:2])"
   ]
  },
  {
   "cell_type": "code",
   "execution_count": null,
   "metadata": {
    "collapsed": false,
    "jupyter": {
     "outputs_hidden": false
    }
   },
   "outputs": [],
   "source": [
    "# Los dos puntos pueden ir al comienzo o al final o solos\n",
    "print(a[:2]) #comienzo hasta el item 1 (item 1 es el 2, recuerde que contamos desde 0)\n",
    "print(a[2:]) #item 2 hasta el final\n",
    "print(a[:]) #toda la lista\n",
    "print(a[:-1]) #comienzo hasta el penultimo item (i.e. hasta el -2, recordar que -1 no se incluye)"
   ]
  },
  {
   "cell_type": "code",
   "execution_count": null,
   "metadata": {
    "collapsed": false,
    "jupyter": {
     "outputs_hidden": false
    }
   },
   "outputs": [],
   "source": [
    "# Las listas son objetos y tienen métodos p.ej. append\n",
    "a.append('banana')\n",
    "print(a)\n",
    "\n",
    "a.append([1,2])\n",
    "print(a)\n",
    "\n",
    "a.pop() #¿Qué hace?\n",
    "print(a)"
   ]
  },
  {
   "cell_type": "markdown",
   "metadata": {},
   "source": [
    "\n",
    "__PRECAUCIÓN:__ Una importante fuente de confusión para nuevos usuarios de Python es que hay objetos inmutables y mutables. Muchos objetos que agrupan otros objetos, como las listas, son mutables. Esto quiere decir que son apuntadores que apuntan a la data en la memoria, NO son la data como tal. \n",
    "\n",
    "Parece confuso pero veamos un ejemplo para aclarar."
   ]
  },
  {
   "cell_type": "code",
   "execution_count": null,
   "metadata": {
    "collapsed": false,
    "jupyter": {
     "outputs_hidden": false
    }
   },
   "outputs": [],
   "source": [
    "#Int, float, strings, son inmutables\n",
    "a = 1\n",
    "b = a\n",
    "print('original b', b)\n",
    "a = 2\n",
    "print('¿Qué es b después de cambiar a?', b)\n",
    "\n",
    "#Las listas son mutables\n",
    "a = [1, 2, 3]\n",
    "b = a\n",
    "print('original b', b)\n",
    "a[0] = 42\n",
    "print('¿Qué es b después de cambiar a?', b) # !!!Cambie a pero tambien cambio b!!!\n",
    "\n",
    "#¿Qué hacer si se quiere que otra lista sea igual a otra sin que el cambio en una se refleje en la otra? Ver el modulo copy\n",
    "import copy\n",
    "a = [1,2,3]\n",
    "b = copy.deepcopy(a)\n",
    "print('original b', b)\n",
    "a[0] = 42\n",
    "print('¿Qué es b después de cambiar a?', b) \n"
   ]
  },
  {
   "cell_type": "markdown",
   "metadata": {},
   "source": [
    "### EJERCICIO 2 - Ponga muchas alturas (en metros) en una lista\n",
    "\n",
    "1. Cree una celda de code abajo de esta.\n",
    "1. Preguntele a cinco personas alrededor suyo su altura en metros\n",
    "2. Pongalas en una lista llamada `heights`.\n",
    "3. Adjunte su propia altura a la lista anterior con el método `append`\n",
    "4. Imprima la primera altura de la lista \n",
    "5. Imprima el último elemento de la lista\n",
    "6. Utilicé la función `len` en la lista `heights`. ¿Qué hace la función?"
   ]
  },
  {
   "cell_type": "markdown",
   "metadata": {},
   "source": [
    "### 3.2 Tuplas\n",
    "\n",
    "No diremos mucho de tuplas excepto que son parecidas a las listas con dos importantes excepciones:\n",
    "\n",
    "1. Se declaran usando () no con []\n",
    "1. Son inmutables, es decir, una vez creadas no se puede cambiar los valores\n",
    "\n",
    "Es más común usar listas pero las tuples usualmente se usan para: \n",
    "\n",
    "1. Cuando la posición de un elemento es esencial, como en coordenadas coord = (x,y)\n",
    "1. Cuando se quiere evitar modificaciones accidentales de items e.g. shape = (12,23)"
   ]
  },
  {
   "cell_type": "code",
   "execution_count": null,
   "metadata": {
    "collapsed": false,
    "jupyter": {
     "outputs_hidden": false
    }
   },
   "outputs": [],
   "source": [
    "xy = (23, 45)\n",
    "print(xy[0])\n",
    "xy[0] = \"this won't work with a tuple\""
   ]
  },
  {
   "cell_type": "markdown",
   "metadata": {},
   "source": [
    "### Anatomy of a traceback error\n",
    "\n",
    "Traceback errors aparecen cuando intenta hacer algo con el código que no debe hacer. Pretende ser informativo, pero no siempre lo es.\n",
    "\n",
    "Hay muchos tipos de error. El error que aparece cuando corre la celda anterior tiene las siguientes características:\n",
    "\n",
    "1. **TypeError** significa que se usó una variable de una forma no es aceptable por Python\n",
    "2. En especifico, los objetos `tuple` son inmutables, no podemos asignar nuevos valores a los items.\n",
    "3. En notebooks Jupyter, la flecha ----> apunta a la línea donde ocurrió el error.\n",
    "4. En caso de no entender bien el error, se puede copiar el texto del error y buscarlo en Google. Stackoverflow, un foro de usuarios de lenguajes de programación, es particularmente bueno para aclarar. \n",
    "    \n"
   ]
  },
  {
   "cell_type": "markdown",
   "metadata": {},
   "source": [
    "### 3.3 Diccionarios\n",
    "\n",
    "Al igual que las listas, sirven para guardar colecciones de objetos. Su principal diferencia es que permite recuperar items por su nombre en vez de posición. \n",
    "\n",
    "Se declaran usando corchetes de llave {}."
   ]
  },
  {
   "cell_type": "code",
   "execution_count": null,
   "metadata": {
    "collapsed": false,
    "jupyter": {
     "outputs_hidden": false
    }
   },
   "outputs": [],
   "source": [
    "# Diccionarios guardan objetos como pares key:value\n",
    "convertors = {'inches_in_feet' : 12,\n",
    "              'inches_in_metre' : 39}\n",
    "\n",
    "print(convertors)\n",
    "print(convertors['inches_in_feet'])"
   ]
  },
  {
   "cell_type": "code",
   "execution_count": null,
   "metadata": {
    "collapsed": false,
    "jupyter": {
     "outputs_hidden": false
    }
   },
   "outputs": [],
   "source": [
    "## Add a new key:value pair\n",
    "convertors['metres_in_mile'] = 1609.34\n",
    "print(convertors)"
   ]
  },
  {
   "cell_type": "code",
   "execution_count": null,
   "metadata": {
    "collapsed": false,
    "jupyter": {
     "outputs_hidden": false
    }
   },
   "outputs": [],
   "source": [
    "# Raise a KEY error\n",
    "print(convertors['blueberry'])"
   ]
  },
  {
   "cell_type": "markdown",
   "metadata": {},
   "source": [
    "### 3.4 Numpy arrays (ndarrays)\n",
    "\n",
    "Numpy arrays (ndarrays) no son objetos de Python básico pero son muy útiles. Se pueden pensar como vectores o matrices. Entre otras razones, son importantes por:\n",
    "\n",
    "1. Los arrays pueden tener n-dimensiones (e.g. matrices mxn)\n",
    "1. Se pueden hacer operaciones de matrices con numpy arrays\n",
    "1. Se pueden concatenar\n",
    "\n",
    "Ahora que estamos empezando nuestro recorrido por Python para ciencia de datos, es recomendable tratar de siempre usar ndarrays para guardar colecciones de objetos de la misma clase. Dejar los otros tipos, como listas o tuplas, para usos muy específicos.\n"
   ]
  },
  {
   "cell_type": "code",
   "execution_count": null,
   "metadata": {
    "collapsed": false,
    "jupyter": {
     "outputs_hidden": false
    }
   },
   "outputs": [],
   "source": [
    "# Necesitamos importar la libreria numpy (además de permitirnos construir ndarrays, tiene muchos métodos y atributos útiles)\n",
    "# La importamos con el apodo np, comunmente usado en la comunidad de usuarios de Python\n",
    "# Ya la habíamos importado arriba, no es necesario hacerlo 2 veces pero por motivos pedagógicos acá va de nuevo.\n",
    "\n",
    "import numpy as np"
   ]
  },
  {
   "cell_type": "code",
   "execution_count": null,
   "metadata": {
    "collapsed": false,
    "jupyter": {
     "outputs_hidden": false
    }
   },
   "outputs": [],
   "source": [
    "# Hacer un numpy array de una list\n",
    "alist = [2, 3, 4]\n",
    "blist = [5, 6, 7]\n",
    "a = np.array(alist)\n",
    "b = np.array(blist)\n",
    "print(a, type(a))\n",
    "print(b, type(b))"
   ]
  },
  {
   "cell_type": "code",
   "execution_count": null,
   "metadata": {
    "collapsed": false,
    "jupyter": {
     "outputs_hidden": false
    }
   },
   "outputs": [],
   "source": [
    "# Hacer aritmética con arrays\n",
    "print(a**2)\n",
    "print(np.sin(a))\n",
    "print(a * b)\n",
    "print(a.dot(b), np.dot(a, b))"
   ]
  },
  {
   "cell_type": "code",
   "execution_count": null,
   "metadata": {
    "collapsed": false,
    "jupyter": {
     "outputs_hidden": false
    }
   },
   "outputs": [],
   "source": [
    "# Los operadores Booleanos también funcionan con arrays y devuelven arrays con valores Booleanos\n",
    "print(a > 2)\n",
    "print(b == 6)\n",
    "\n",
    "c = a > 2\n",
    "print(c)\n",
    "print(type(c))\n",
    "print(c.dtype)"
   ]
  },
  {
   "cell_type": "code",
   "execution_count": null,
   "metadata": {
    "collapsed": false,
    "jupyter": {
     "outputs_hidden": false
    }
   },
   "outputs": [],
   "source": [
    "# Indexar/acceder a elementos de arrays\n",
    "print(a[0:2])\n",
    "\n",
    "c = np.random.rand(3,3)\n",
    "print(c)\n",
    "print('\\n')\n",
    "print(c[1:3,0:2])\n",
    "\n",
    "c[0,:] = a\n",
    "print('\\n')\n",
    "print(c)"
   ]
  },
  {
   "cell_type": "code",
   "execution_count": null,
   "metadata": {
    "collapsed": false,
    "jupyter": {
     "outputs_hidden": false
    }
   },
   "outputs": [],
   "source": [
    "# Los arrays se pueden indexar con arrays Booleanos (logic indexing)\n",
    "print(a)\n",
    "print(b)\n",
    "print(a > 2)\n",
    "print(a[a > 2])\n",
    "print(b[a > 2])\n",
    "\n",
    "b[a == 3] = 77\n",
    "print(b)"
   ]
  },
  {
   "cell_type": "code",
   "execution_count": null,
   "metadata": {
    "collapsed": false,
    "jupyter": {
     "outputs_hidden": false
    }
   },
   "outputs": [],
   "source": [
    "# Los ndarrays tienen atributos además de métodos\n",
    "#c.\n",
    "print(c.shape)\n",
    "print(c.prod())"
   ]
  },
  {
   "cell_type": "code",
   "execution_count": null,
   "metadata": {
    "collapsed": false,
    "jupyter": {
     "outputs_hidden": false
    }
   },
   "outputs": [],
   "source": [
    "# Hay métodos que nos permiten hacer arrays llenos de unos o zeros \n",
    "# Útil para cosas como inicializar una variable que luego se llena con otros elementos\n",
    "print(np.zeros(5), '\\n')\n",
    "print(np.ones(5), '\\n')\n",
    "print(np.identity(5), '\\n')"
   ]
  },
  {
   "cell_type": "code",
   "execution_count": null,
   "metadata": {
    "collapsed": false,
    "jupyter": {
     "outputs_hidden": false
    }
   },
   "outputs": [],
   "source": [
    "# También tiene métodos para inicializar secuencias de números\n",
    "print(np.arange(0, 10, 2))"
   ]
  },
  {
   "cell_type": "markdown",
   "metadata": {},
   "source": [
    "### 3.5 Pandas dataframes\n",
    "\n",
    "Los dataframes son parecidos a los numpy arrays, de hecho se construyen sobre ellos, y también se pueden pensar como matrices donde cada columna tiene que ser de la misma clase de objetos (e.g. una columna son strings; otra números; otra listas; etc).\n",
    "\n",
    "Al mismo tiempo, un dataframe y numpy ndarray difieren. Por ejemplo, los numpy array se procesan más rápido por Python pero los dataframe tienen métodos que no tienen los ndarrays y que son muy útiles. Por eso aprendemos ambos.\n"
   ]
  },
  {
   "cell_type": "code",
   "execution_count": null,
   "metadata": {},
   "outputs": [],
   "source": [
    "# Necesitamos importar la libreria pandas (además de permitirnos construir dataframes, tiene muchos métodos y atributos útiles)\n",
    "# La importamos con el apodo pd, comunmente usado en la comunidad de usuarios de Python\n",
    "# Ya la habíamos importado arriba, no es necesario hacerlo 2 veces pero por motivos pedagógicos acá va de nuevo.\n",
    "import pandas as pd"
   ]
  },
  {
   "cell_type": "code",
   "execution_count": null,
   "metadata": {},
   "outputs": [],
   "source": [
    "# Un dataframe se puede construir con otros objetos como diccionarios\n",
    "data = {\n",
    "    'manzanas': [3, 2, 0, 1], \n",
    "    'naranjas': [0, 3, 7, 2]\n",
    "}\n",
    "compras = pd.DataFrame(data) #Cada key del diccionario es una columna del dataframe\n",
    "compras\n"
   ]
  },
  {
   "cell_type": "code",
   "execution_count": null,
   "metadata": {},
   "outputs": [],
   "source": [
    "# Construir con un numpy array\n",
    "data_numpy_array = np.array([[3, 2, 0, 1], [0, 3, 7, 2]])\n",
    "compras = pd.DataFrame(np.transpose(data_numpy_array), columns = ['manzanas','naranjas'])\n",
    "compras\n"
   ]
  },
  {
   "cell_type": "code",
   "execution_count": null,
   "metadata": {},
   "outputs": [],
   "source": [
    "# Construir con una lista\n",
    "data_list = [[3, 0], [2, 3], [0, 7],[1,2]] #Cada item de la lista es una fila del dataframe\n",
    "compras = pd.DataFrame(data_list, columns = ['manzanas','naranjas'])\n",
    "compras\n"
   ]
  },
  {
   "cell_type": "code",
   "execution_count": null,
   "metadata": {},
   "outputs": [],
   "source": [
    "# El constructor enumera las filas pero podemos ponerle nombres\n",
    "# En un dataframe las filas se llaman index\n",
    "compras = pd.DataFrame(data, index=['June', 'Robert', 'Lily', 'David'])\n",
    "compras"
   ]
  },
  {
   "cell_type": "code",
   "execution_count": null,
   "metadata": {},
   "outputs": [],
   "source": [
    "# Podemos ubicar los datos de un cliente con el nombre del index\n",
    "compras.loc['Robert',:] #los dos puntos le dice a python que traiga todas las columnas"
   ]
  },
  {
   "cell_type": "code",
   "execution_count": null,
   "metadata": {},
   "outputs": [],
   "source": [
    "# Podemos ubicar los datos de un producto con el nombre de la columna\n",
    "compras.loc[:,'naranjas'] #los dos puntos le dice a python que traiga todas las filas"
   ]
  },
  {
   "cell_type": "code",
   "execution_count": null,
   "metadata": {},
   "outputs": [],
   "source": [
    "# Podemos acceder al valor de una celda \n",
    "compras.loc['David','manzanas']"
   ]
  },
  {
   "cell_type": "code",
   "execution_count": null,
   "metadata": {},
   "outputs": [],
   "source": [
    "# Con el método reset_index() podemos volver a enumerar las filas si nos arrepentimos de los nombres que pusimos\n",
    "compras = compras.reset_index(drop = True)\n",
    "compras\n",
    "\n",
    "# Esto es útil si preferimos acceder a celdas con posiciones \n",
    "compras.iloc[0,0] #accede al valor de la primera celda en la matriz (recordar que en Python se cuenta desde cero)\n"
   ]
  },
  {
   "cell_type": "markdown",
   "metadata": {},
   "source": [
    "### EJERCICIO 3 - Análisis simple con numpy arrays\n",
    "\n",
    "Use la lista de alturas que construyó en el anterior ejercicio.\n",
    "\n",
    "1. Cree una nueva celda code abajo\n",
    "1. Convierta la lista en un numpy array y pongalo en una nueva variable\n",
    "2. Calcule el promedio y la desviación estandard\n",
    "3. Construya una nueva variable con un array que tenga las alturas mayores a un cierto valor de su preferencia\n",
    "4. Calcule el promedio de la nueva variable\n"
   ]
  },
  {
   "cell_type": "markdown",
   "metadata": {
    "toc-hr-collapsed": true,
    "toc-nb-collapsed": true
   },
   "source": [
    "## 4. ITERAR: LOOPS FOR Y LOOPS WHILE\n",
    "\n",
    "En las secciones que vienen vamos a empezar a tomar provecho del poder de programar para que automatice tareas.\n",
    "\n",
    "Comecemos con acciones que se pueden repetir i.e. iterar. Las dos maneras básicas para iterar en un programa es con loops for y loops while. \n",
    "\n",
    "Los loops for repiten un mismo set de operaciones sobre los elementos de una colección de objetos, por ejemplo sobre cada fila (o columna) de un dataframe.\n",
    "\n",
    "Los loops while repiten un mismo set de operaciones hasta que se cumpla una condición.\n",
    "\n",
    "Abajo veremos algunos ejemplos para clarificar.\n"
   ]
  },
  {
   "cell_type": "code",
   "execution_count": null,
   "metadata": {
    "collapsed": false,
    "jupyter": {
     "outputs_hidden": false
    }
   },
   "outputs": [],
   "source": [
    "# Un loop for básico \n",
    "wordlist = ['hi', 'hello', 'bye']\n",
    "for word in wordlist:\n",
    "    print(word + '!')"
   ]
  },
  {
   "cell_type": "markdown",
   "metadata": {},
   "source": [
    "**IMPORTANTE INDENTACIÓN**: Note la indentación una vez entramos al for loop. Python usa esa indentación para saber cuales son los comandos a repetir. Todos los comandos al mismo nivel de indentación entran en el for loop.\n",
    "\n",
    "Vamos a ver que aplica para otros procedimientos como while loops, condicionales if, declaración de funciones, etc. Lo que hace único a Python es esta indentación. Python es mucho más fácil de leer, relativo a otros lenguajes de programación.\n",
    "\n",
    "Si no tiene una indentación consistente le aparece un error `IndentationError`. Afortunadamente, la mayoría de editores, incluyendo Jupyter, corrigen la indentación.\n"
   ]
  },
  {
   "cell_type": "code",
   "execution_count": null,
   "metadata": {
    "collapsed": false,
    "jupyter": {
     "outputs_hidden": false
    }
   },
   "outputs": [],
   "source": [
    "# Error de indentación: ¡Arreglelo!\n",
    "for word in wordlist:\n",
    "    new_word = word.capitalize()\n",
    "   print(new_word + '!') # Bad indent"
   ]
  },
  {
   "cell_type": "code",
   "execution_count": null,
   "metadata": {
    "collapsed": false,
    "jupyter": {
     "outputs_hidden": false
    }
   },
   "outputs": [],
   "source": [
    "# Sume los valores de la lista \n",
    "numlist = [1, 4, 77, 3]\n",
    "\n",
    "total = 0\n",
    "for num in numlist:\n",
    "    total = total + num\n",
    "    \n",
    "print(\"Sum is\", total)"
   ]
  },
  {
   "cell_type": "code",
   "execution_count": null,
   "metadata": {
    "collapsed": false,
    "jupyter": {
     "outputs_hidden": false
    }
   },
   "outputs": [],
   "source": [
    "# Es usual que necesitemos en la iteración los items e indices \n",
    "print(wordlist)\n",
    "for i, word in enumerate(wordlist):\n",
    "    print(i, word, wordlist[i])"
   ]
  },
  {
   "cell_type": "code",
   "execution_count": null,
   "metadata": {
    "collapsed": false,
    "jupyter": {
     "outputs_hidden": false
    }
   },
   "outputs": [],
   "source": [
    "# Los loops while son útiles cuando no sabes cuántos pasos necesitarás\n",
    "# y quieres parar tan pronto una condición se cumpla\n",
    "step = 0\n",
    "prod = 1\n",
    "while prod < 100:\n",
    "    step = step + 1\n",
    "    prod = prod * 2\n",
    "    print(step, prod)\n",
    "    \n",
    "print('Reached a product of', prod, 'at step number', step)"
   ]
  },
  {
   "cell_type": "markdown",
   "metadata": {},
   "source": [
    "### EJERCICIO 4 - Varianza\n",
    "\n",
    "Ahora podemos calcular la varianza de las alturas que recolectamos antes.\n",
    "\n",
    "Como recordatorio, **la varianza muestral** es la suma de las diferencias de cada observación de la media, elevado al cuadrado:\n",
    "\n",
    "### $variance = \\frac{\\Sigma{(x-mean)^2}}{n-1}$\n",
    "\n",
    "donde **mean** es el promedio de nuestras observaciones, **x** es cada observación individual, y **n** es el número de observaciones.\n",
    "\n",
    "Primero, cree una celda code abajo de esta.\n",
    "\n",
    "Segundo, calculemos el promedio:\n",
    "\n",
    "1. Cree una variable `total` para la suma de las alturas.\n",
    "2. Usando un loop `for`, agregue cada altura a `total`.\n",
    "3. Encuentre la media dividiéndola por el número de mediciones y guárdela como `mean`.\n",
    "\n",
    "\n",
    "__Nota__: Para obtener el número de items en una lista, use `len (the_list)`.\n",
    "\n",
    "Ahora usaremos otro loop para calcular la varianza:\n",
    "\n",
    "1. Cree una variable `sum_diffsq` para la suma de las diferencias al cuadrado.\n",
    "2. Haga un segundo bucle `for` sobre` alturas`.\n",
    "  - En cada paso, reste la altura de la media y llámela `diff`.\n",
    "  - Eleve `diff` al cuadrado y llámalo `diffsq`.\n",
    "  - Agregue `diffsq` a` sum_diffsq`.\n",
    "3. Divida `sum_diffsq` por` n-1` para obtener la varianza.\n",
    "4. Mostrar la varianza.\n",
    "\n",
    "__Nota__: Para elevar un número al cuadrado use `**`, eg. `5**2`.\n"
   ]
  },
  {
   "cell_type": "markdown",
   "metadata": {
    "toc-hr-collapsed": true,
    "toc-nb-collapsed": true
   },
   "source": [
    "## 5. CONDICIONAL IF\n",
    "\n",
    "A menudo queremos verificar si una condición es Verdadera y tomar una acción si es así, y otra acción si la condición es falsa. Podemos lograr esto en Python con una declaración if.\n",
    "\n",
    "__TIP:__ Puede usar cualquier expresión que devuelva un valor booleano (verdadero o falso) en una instrucción if.\n",
    "Los operadores booleanos comunes son ==, !=, <, <=, >, >=. También puede usar `is` y` is not` si desea\n",
    "comprobar si dos variables son idénticas en el sentido de que están almacenadas en la misma ubicación en la memoria.\n"
   ]
  },
  {
   "cell_type": "code",
   "execution_count": null,
   "metadata": {
    "collapsed": false,
    "jupyter": {
     "outputs_hidden": false
    }
   },
   "outputs": [],
   "source": [
    "# Un ejemplo básico del condicional if \n",
    "x = 3\n",
    "if x > 0:\n",
    "    print('x es positivo')\n",
    "elif x < 0:\n",
    "    print('x es negativo')\n",
    "else:\n",
    "    print('x es cero')"
   ]
  },
  {
   "cell_type": "code",
   "execution_count": null,
   "metadata": {
    "collapsed": false,
    "jupyter": {
     "outputs_hidden": false
    }
   },
   "outputs": [],
   "source": [
    "# Se pueden usar variables booleanas en condicionales if \n",
    "x = -1\n",
    "test = (x > 0)\n",
    "print(type(test)); print(test)\n",
    "\n",
    "if test:\n",
    "    print('Test fue verdadero')"
   ]
  },
  {
   "cell_type": "markdown",
   "metadata": {
    "toc-hr-collapsed": true,
    "toc-nb-collapsed": true
   },
   "source": [
    "## 6. FUNCIONES Y MODULOS\n",
    "\n",
    "Una forma de programar es escribir comandos, como los descritos anteriormente, y luego ejecutar ese archivo para generar sus resultados. Esto puede funcionar, pero si son muchas lineas puede ser cognitivamente difícil seguir la lógica de los programas escritos en este estilo. Además, no le permite reutilizar su código fácilmente, por ejemplo, ¿qué pasaría si quisiéramos ejecutar nuestro modelo de crecimiento logístico para varias opciones diferentes de parámetros iniciales?\n",
    "\n",
    "Podemos \"fragmentar\" el código en funciones y luego reunir estas funciones en módulos y eventualmente paquetes. A continuación discutiremos cómo crear funciones y módulos. Un tercer tipo común de \"fragmento\" en Python son las clases, pero no las cubriremos en este taller.\n"
   ]
  },
  {
   "cell_type": "code",
   "execution_count": null,
   "metadata": {
    "collapsed": false,
    "jupyter": {
     "outputs_hidden": false
    }
   },
   "outputs": [],
   "source": [
    "# Hemos usado funciones todo el tiempo en este tutorial \n",
    "x = 3.333333\n",
    "print(round(x, 2))\n",
    "print(np.sin(x))"
   ]
  },
  {
   "cell_type": "code",
   "execution_count": null,
   "metadata": {},
   "outputs": [],
   "source": [
    "# Es muy fácil escribir sus propias funciones\n",
    "def multiply(x, y):\n",
    "    return x*y"
   ]
  },
  {
   "cell_type": "code",
   "execution_count": null,
   "metadata": {
    "collapsed": false,
    "jupyter": {
     "outputs_hidden": false
    }
   },
   "outputs": [],
   "source": [
    "# Una vez que corre la función esta queda en memoria y puede usarla como cualquier otra\n",
    "print(type(multiply))\n",
    "print(multiply(4, 3))"
   ]
  },
  {
   "cell_type": "code",
   "execution_count": null,
   "metadata": {},
   "outputs": [],
   "source": [
    "# Es útil incluir docstrings para describir qué hace sus función \n",
    "def say_hello(time, people):\n",
    "    '''\n",
    "    La función saluda. Útil para generar goodwill\n",
    "    '''\n",
    "    return 'Good ' + time + ', ' + people"
   ]
  },
  {
   "cell_type": "markdown",
   "metadata": {},
   "source": [
    "**Docstrings**: tipo especial de comentario que le dice qué hace una función. Puede verlos cuando solicita ayuda sobre una función."
   ]
  },
  {
   "cell_type": "code",
   "execution_count": null,
   "metadata": {
    "collapsed": false,
    "jupyter": {
     "outputs_hidden": false
    }
   },
   "outputs": [],
   "source": [
    "say_hello('afternoon', 'friends')"
   ]
  },
  {
   "cell_type": "code",
   "execution_count": null,
   "metadata": {
    "collapsed": false,
    "jupyter": {
     "outputs_hidden": false
    }
   },
   "outputs": [],
   "source": [
    "# Todos los argumentos deben estar presentes o la función genera un error\n",
    "say_hello('afternoon')"
   ]
  },
  {
   "cell_type": "code",
   "execution_count": null,
   "metadata": {},
   "outputs": [],
   "source": [
    "# Puede poner valores default a los argumentos\n",
    "def say_hello(time, people='friends'):\n",
    "    return 'Good ' + time + ', ' + people"
   ]
  },
  {
   "cell_type": "code",
   "execution_count": null,
   "metadata": {
    "collapsed": false,
    "jupyter": {
     "outputs_hidden": false
    }
   },
   "outputs": [],
   "source": [
    "say_hello('afternoon')"
   ]
  },
  {
   "cell_type": "code",
   "execution_count": null,
   "metadata": {
    "collapsed": false,
    "jupyter": {
     "outputs_hidden": false
    }
   },
   "outputs": [],
   "source": [
    "say_hello('afternoon', 'students')"
   ]
  },
  {
   "cell_type": "markdown",
   "metadata": {},
   "source": [
    "### EJERCICIO 5 - Crear una función de varianza\n",
    "\n",
    "Finalmente, convirtamos nuestro cálculo de varianza en una función que podamos usar una y otra vez.\n",
    "\n",
    "Cree una celda code abajo y copie su código del Ejercicio 4 en el cuadro a continuación y haga lo siguiente:\n",
    "\n",
    "1. Convierta su código en una función llamada `Calculate_variance` que toma una lista de valores y devuelve su varianza.\n",
    "1. Escribe docstring que describa lo que hace tu función.\n",
    "1. En una celda posterior, llame a su función con diferentes conjuntos de números para asegurarse de que funciona.\n",
    "\n",
    "Cree otra celda code y haga lo siguiente\n",
    "1. Reescriba su función sacando la sección que calcula la media y ponga ese cálculo en otra función llamada `Calculate_mean`. Llame esa nueva función dentro de su función `Calculate_variance`.\n",
    "2. Asegúrese de que funcione correctamente con diferentes listas de datos.\n",
    "3. Dar un mensaje de error mejor cuando se pasa una lista vacía. Use la web para descubrir cómo generar excepciones en Python.\n"
   ]
  },
  {
   "cell_type": "markdown",
   "metadata": {},
   "source": [
    "### EJERCICIO 6 - Poner las funciones `Calculate_mean` y` Calculate_variance` en un módulo\n",
    "\n",
    "Podemos poner nuestras funciones en módulos que podamos importar, tal como hemos estado haciendo con `numpy`. Es bastante simple hacer esto.\n",
    "\n",
    "1. Copie sus funciones en un nuevo archivo de texto llamado `stats.py` y guardelo en el mismo directorio de este notebook,.\n",
    "1. En una celda code, escriba `import stats` para importar el módulo. Escriba `stats` y presione tab para ver las  funciones disponibles en el módulo. Intente calcular la varianza de varias muestras de alturas (u otros números aleatorios) utilizando su módulo importado."
   ]
  },
  {
   "cell_type": "markdown",
   "metadata": {
    "toc-hr-collapsed": true,
    "toc-nb-collapsed": true
   },
   "source": [
    "## 7. CARGAR, ARREGLAR, USAR, Y GUARDAR BASES DE DATOS \n",
    "\n",
    "El científico de datos obtiene y usa información proveniente de diferentes fuentes. Python puede reconocer diferentes formatos (csv, dta, RData, mat, json, sql, otros), cargar, y guardarlos en una variable. En esta sección usaremos `pandas dataframes` para ilustrar cómo trabajar con algunos de estos formatos. "
   ]
  },
  {
   "cell_type": "markdown",
   "metadata": {},
   "source": [
    "### 7.1 Cargar"
   ]
  },
  {
   "cell_type": "code",
   "execution_count": null,
   "metadata": {},
   "outputs": [],
   "source": [
    "# Para poder cargar algunos formatos, necesitamos algunos paquetes\n",
    "import pyreadr \n",
    "import json\n",
    "import pandas as pd #Ya lo cargamos arriba, no hay que hacerlo de nuevo, pero lo hacemos acá como estrategia pedagógica"
   ]
  },
  {
   "cell_type": "code",
   "execution_count": null,
   "metadata": {},
   "outputs": [],
   "source": [
    "# Para cargar bases de datos .csv\n",
    "data_csv = pd.read_csv('GHE2016_AllAges.csv') #Tasa de muerte en diferentes países por tipo de enfermedad\n",
    "data_csv.head() #Es un desorden, luego veremos como arreglarla"
   ]
  },
  {
   "cell_type": "code",
   "execution_count": null,
   "metadata": {},
   "outputs": [],
   "source": [
    "# Para cargar bases de datos .RData\n",
    "result = pyreadr.read_r('babynames.RData') #diccionario\n",
    "print(result.keys()) # objetos en .RData (puede ser un workspace entero, con funciones y variables)\n",
    "data_R = result[\"babynames\"] #.RData tenía un dataframe llamado babynames\n",
    "print('\\n') #indica salto de linea; es como poner \"enter\" en el teclado\n",
    "print(data_R.dtypes) # nombre y tipo de datos de las columnas (i.e. variables)\n",
    "data_R"
   ]
  },
  {
   "cell_type": "code",
   "execution_count": null,
   "metadata": {},
   "outputs": [],
   "source": [
    "# Para cargar bases de datos de stata .dat\n",
    "data_stata = pd.read_stata('heus_mepssample.dta')\n",
    "itr = pd.read_stata('heus_mepssample.dta', iterator=True) #tiene, entre otras cosas, la descripción de las variables\n",
    "print(data_stata.dtypes) \n",
    "print('\\n')\n",
    "print(\"La variable ed_hs es: \" + itr.variable_labels()['ed_hs'])"
   ]
  },
  {
   "cell_type": "code",
   "execution_count": null,
   "metadata": {},
   "outputs": [],
   "source": [
    "# Para cargar bases de datos .json\n",
    "with open('black_mirror.json') as f: #Esto carga el archivo json como texto\n",
    "  data = json.load(f) #esto interpreta el texto en f (parse) y lo pone en un diccionario\n",
    "print(data.keys()) #Items del diccionario. Nota: Jupyterlab tiene un viewer para archivos json\n",
    "data_json = pd.DataFrame(data['_embedded']['episodes']) #episodios de black mirror en un dataframe\n",
    "print(data_json.dtypes) #columnas y tipos de datos. Cada fila es un episodio\n",
    "print('\\n')\n",
    "episode = 6\n",
    "print(data_json.loc[episode,'name']) \n",
    "print(data_json.loc[episode,'season']) \n",
    "print(data_json.loc[episode,'summary'])\n",
    "\n"
   ]
  },
  {
   "cell_type": "markdown",
   "metadata": {},
   "source": [
    "### 7.2 Arreglar\n",
    "\n",
    "Inspirado en el tutorial premiers de rstudio cloud"
   ]
  },
  {
   "cell_type": "code",
   "execution_count": null,
   "metadata": {},
   "outputs": [],
   "source": [
    "# Mismos datos diferente organización\n",
    "tabla1 = pd.read_csv('For_Reshape_Tutorial.csv')\n",
    "tabla2 = pd.read_csv('For_Reshape_Tutorial_2.csv')\n",
    "tabla3 = pd.read_csv('For_Reshape_Tutorial_3.csv')\n",
    "tabla4a = pd.read_csv('For_Reshape_Tutorial_4a.csv') #casos\n",
    "tabla4b = pd.read_csv('For_Reshape_Tutorial_4b.csv') #población\n",
    "tabla5 = pd.read_csv('For_Reshape_Tutorial_5.csv')\n"
   ]
  },
  {
   "cell_type": "code",
   "execution_count": null,
   "metadata": {},
   "outputs": [],
   "source": [
    "# Veamos primero la tabla 1\n",
    "print(tabla1.dtypes)\n",
    "print(\"(filas, columnas): \" + str(tabla1.shape))\n",
    "print('\\n')\n",
    "print(tabla1) "
   ]
  },
  {
   "cell_type": "markdown",
   "metadata": {},
   "source": [
    "Algunas definiciones:\n",
    "* **Variable:** cantidad, calidad o propiedad que se puede medir.\n",
    "\n",
    "* **Valor**: valor de una variable. Puede cambiar de una medición a otra.\n",
    "\n",
    "* **Observación**: conjunto de mediciones que se realizan en condiciones similares (por lo general, se realizan todas las mediciones en una observación al mismo tiempo y en el mismo objeto). Una observación contendrá varios valores, cada uno asociado con una variable diferente. Una observación es un caso o punto de datos e.g. todas las medidas que un médico hace de un paciente en un momento determinado.\n"
   ]
  },
  {
   "cell_type": "markdown",
   "metadata": {},
   "source": [
    "### EJERCICIO 7 - Identificar variables, valores, y observaciones\n",
    "\n",
    "En la tabla 1:\n",
    "- ¿qué son variables?\n",
    "- ¿qué son valores?\n",
    "- ¿qué son observaciones?"
   ]
  },
  {
   "cell_type": "code",
   "execution_count": null,
   "metadata": {},
   "outputs": [],
   "source": [
    "# Veamos las otras tablas\n",
    "tabla2"
   ]
  },
  {
   "cell_type": "code",
   "execution_count": null,
   "metadata": {},
   "outputs": [],
   "source": [
    "tabla3"
   ]
  },
  {
   "cell_type": "code",
   "execution_count": null,
   "metadata": {},
   "outputs": [],
   "source": [
    "tabla4a"
   ]
  },
  {
   "cell_type": "code",
   "execution_count": null,
   "metadata": {},
   "outputs": [],
   "source": [
    "tabla4b"
   ]
  },
  {
   "cell_type": "code",
   "execution_count": null,
   "metadata": {},
   "outputs": [],
   "source": [
    "tabla5"
   ]
  },
  {
   "cell_type": "markdown",
   "metadata": {},
   "source": [
    "Todas las tablas tienen la misma información, sin embargo algunas veces preferimos una organización sobre otra. Imaginemos que nos dieron la tabla 2 pero nos interesa el formato de la tabla 1. ¿Cómo la transformamos?"
   ]
  },
  {
   "cell_type": "code",
   "execution_count": null,
   "metadata": {},
   "outputs": [],
   "source": [
    "# Queremos que la tabla 2 se vea como la tabla 1\n",
    "# Problema: en la tabla 2, cases y population están en la columna type\n",
    "# Objetivo: ir de formato largo a ancho: extender la columna type en dos nuevas columnas cases y population\n",
    "# Solución: pd.pivot_table()\n",
    "\n",
    "tabla2_wide = pd.pivot_table(tabla2, index = ['country', 'year'], columns = ['type'], values = ['count']).reset_index()\n",
    "tabla2_wide.columns = ['country','year', 'cases','population']\n",
    "tabla2_wide #en formato wide (ancho)"
   ]
  },
  {
   "cell_type": "code",
   "execution_count": null,
   "metadata": {},
   "outputs": [],
   "source": [
    "# Para comparar con la obtenida en la anterior celda\n",
    "tabla1"
   ]
  },
  {
   "cell_type": "code",
   "execution_count": null,
   "metadata": {},
   "outputs": [],
   "source": [
    "# También puede ocurrir el problema opuesto: hay columnas separadas que quiero tener en una\n",
    "# Es decir, queremos que la tabla 1 se vea como la tabla 2\n",
    "# Problema: en la tabla 1, cases y population están en columnas diferentes\n",
    "# Objetivo: ir de formato ancho a largo: colapsar columnas cases y population en una sola\n",
    "# Solución: pd.melt()\n",
    "\n",
    "tabla1_long = pd.melt(tabla1, id_vars = ['country', 'year'], value_vars = ['cases','population'], \n",
    "                     var_name = 'type', value_name = 'count').reset_index(drop=True)\n",
    "tabla1_long = tabla1_long.sort_values(by = ['country', 'year'], ascending = True)\n",
    "tabla1_long #en formato long (largo)"
   ]
  },
  {
   "cell_type": "code",
   "execution_count": null,
   "metadata": {},
   "outputs": [],
   "source": [
    "# Para comparar con la obtenida en la anterior celda\n",
    "tabla2"
   ]
  },
  {
   "cell_type": "markdown",
   "metadata": {},
   "source": [
    "### EJERCICIO 8 - Arreglar una tabla\n",
    "En la base de datos GHE2016_AllAges.csv cada país tiene una columna. Imaginé que a usted le interesa usar país como una variable. Esto quiere decir que el formato original no es el apropiado. Tiene que ponerla en formato long i.e. recoger varias columnas y ponerlas en una sola. Para hacerlo debe hacer lo siguiente:\n",
    "\n",
    "* Cargue la base de datos en una variable llamada `data_raw`\n",
    "* Cree una variable llamada `columnas_data_raw` con el nombre de las columnas de `data_raw`. TIP: obtenga el nombre de las columnas de `data_raw` con el método .columns\n",
    "* Use pd.melt para crear una nueva base de datos llamada `data_long`, donde todos los paises estén en una sola columna/variable llamada `country`. TIP: los nombres de los paises estan `columnas_data_raw`, desde el item 7 en adelante; uselos para el parametro value_vars de pd.melt.\n",
    "* ¿Qué son las columnas temp3 y temp4? Renombre estas columnas TIP: busque en internet el método .rename; funciona asi: data_long = data_long.rename(columns={\"temp3\":\"nuevo_nombre1\", \"temp4\":\"nuevo_nombre2\"})\n"
   ]
  },
  {
   "cell_type": "markdown",
   "metadata": {},
   "source": [
    "### 7.3 Usar\n",
    "\n",
    "Python tiene muchas funciones y métodos para analizar datos. En esta sección veremos como obtener estadísticas descriptivas (inspirada en R studio cloud premiers). Análisis y usos más elaborados de las bases de datos, por ejemplo regresiones, se verán en otro tutorial.\n",
    "\n",
    "Usaremos una base de datos de R llamada babynames. Tiene la frecuencia (n) y proporción (prop) de diferentes nombres (name) masculinos y femeninos (sex) durante el periodo (1880 - 2017) (year) en Estados Unidos. \n",
    "\n",
    "P.S. Algunas comparaciones con R https://pandas.pydata.org/docs/getting_started/comparison/comparison_with_r.html"
   ]
  },
  {
   "cell_type": "code",
   "execution_count": null,
   "metadata": {},
   "outputs": [],
   "source": [
    "# Cargar la data (no olvidar importar pyreadr)\n",
    "babynames = pyreadr.read_r('babynames.RData')[\"babynames\"] #diccionario\n",
    "print(babynames)\n",
    "print('\\n')\n",
    "print(babynames.describe())\n",
    "print('\\n')\n",
    "print(\"Cantidad de nombres diferentes: \" + str(len(babynames['name'].drop_duplicates()))) #.drop_duplicates() deja los items únicos\n"
   ]
  },
  {
   "cell_type": "code",
   "execution_count": null,
   "metadata": {},
   "outputs": [],
   "source": [
    "# Contemos cuantas veces aparece el nombre Santiago de hombre\n",
    "# Solución .query() sirve para filtrar la base de datos.\n",
    "name = babynames.query(\"(name == 'Santiago') & (sex == 'M')\") #primero filtremos. Note como empezamos con doble comillas, para poder usar comillas sencillas dentro\n",
    "name['n'].sum() #sumemos la columna de frecuencias "
   ]
  },
  {
   "cell_type": "code",
   "execution_count": null,
   "metadata": {},
   "outputs": [],
   "source": [
    "# Ahora saquemos otras estadisticas como el max, min, mean, std de Santiago\n",
    "name = babynames.query(\"(name == 'Santiago') & (sex == 'M')\")\n",
    "print(\"En promedio el nombre aparece por año: \" + str(round(name['n'].mean())))\n",
    "print(\"La desviación estandar atraves de los años: \" + str(round(name['n'].std())))\n",
    "print(\"El mínimo número de veces del nombre en un año: \" + str(round(name['n'].min())))\n",
    "print(\"El máximo número de veces del nombre en un año: \" + str(round(name['n'].max())))"
   ]
  },
  {
   "cell_type": "code",
   "execution_count": null,
   "metadata": {},
   "outputs": [],
   "source": [
    "# Saquemos estadisticas de todos los nombres.\n",
    "# Solución .groupby parte la base datos por grupos existentes en variables/columnas\n",
    "\n",
    "# hombres\n",
    "baby_filter = babynames.query(\"(sex == 'M')\")\n",
    "names_mean = round(baby_filter.groupby(['name']).mean()) #luego de groupby podemos usar funciones como mean, sum, std, etc.\n",
    "print(names_mean['n'].sort_values(ascending = False).head(20)) #top 20\n",
    "print('\\n')\n",
    "\n",
    "# mujeres\n",
    "baby_filter = babynames.query(\"(sex == 'F')\")\n",
    "names_mean = round(baby_filter.groupby(['name']).mean())\n",
    "print(names_mean['n'].sort_values(ascending = False).head(20)) #top 20\n",
    "print('\\n')\n",
    "\n",
    "# total por año y genero\n",
    "names_mean = babynames.groupby(['year','sex']).sum().reset_index()\n",
    "print(names_mean.head(20)) \n"
   ]
  },
  {
   "cell_type": "code",
   "execution_count": null,
   "metadata": {},
   "outputs": [],
   "source": [
    "# Graficas con ggplot via plotnine\n",
    "import plotnine as p9\n",
    "from plotnine import ggplot, geom_line, aes, stat_smooth, facet_wrap, themes\n",
    "\n",
    "names_mean = babynames.groupby(['year','sex']).sum().reset_index()\n",
    "p1 = (ggplot(names_mean, aes('year', 'n', color='sex'))\n",
    " + geom_line() \n",
    " + themes.theme_xkcd() #many themes e.g. theme_classic()\n",
    ")\n",
    "\n",
    "p1"
   ]
  },
  {
   "cell_type": "code",
   "execution_count": null,
   "metadata": {},
   "outputs": [],
   "source": [
    "# Graficas con matplotlib\n",
    "import matplotlib\n",
    "from matplotlib import pyplot as plt\n",
    "\n",
    "fig1 = plt.figure(figsize = [9,6])\n",
    "idx = names_mean['sex'] == 'F'\n",
    "x = names_mean.loc[idx,'year']\n",
    "y = names_mean.loc[idx,'n']\n",
    "plt.plot(x, y, color = 'red', label = 'F')\n",
    "\n",
    "idx = names_mean['sex'] == 'M'\n",
    "x = names_mean.loc[idx,'year']\n",
    "y = names_mean.loc[idx,'n']\n",
    "plt.plot(x, y, color = 'cyan', label = 'M')\n",
    "\n",
    "plt.legend()\n",
    "plt.xlabel('Year')\n",
    "plt.ylabel('Number of names')"
   ]
  },
  {
   "cell_type": "markdown",
   "metadata": {},
   "source": [
    "### EJERCICIO 9 - Uso de base de datos\n",
    "\n",
    "Con el método .query, filtre tres enfermedades presentes en la base de datos GHE2016_AllAges.csv. Importe la base como un dataframe de pandas.\n",
    "\n",
    "Imprima para cada enfermedad las primeras 30 filas. Tip: use el método .head()\n",
    "\n",
    "Use la version `data_long` que hizo en el ejercicio 8."
   ]
  },
  {
   "cell_type": "markdown",
   "metadata": {},
   "source": [
    "### 7.4 Guardar\n",
    "\n",
    "Es usual que partes de nuestro código tarden tiempo, minutos o incluso horas. Puede ser buena idea guardar el output de esos procesos para que la próxima vez tan solo se cargue la información. En esta sección, aprenderemos cómo guardar output en Python."
   ]
  },
  {
   "cell_type": "code",
   "execution_count": null,
   "metadata": {},
   "outputs": [],
   "source": [
    "# Guardar en formato csv\n",
    "data_long.to_csv('GHE2016_AllAges_long.csv')"
   ]
  },
  {
   "cell_type": "code",
   "execution_count": null,
   "metadata": {},
   "outputs": [],
   "source": [
    "# Guardar en formato pickle (de python)\n",
    "data_long.to_pickle('GHE2016_AllAges_long.pkl')"
   ]
  },
  {
   "cell_type": "code",
   "execution_count": null,
   "metadata": {},
   "outputs": [],
   "source": [
    "# Guardar en formato dat (de Stata)\n",
    "# Si tiene un nombre de columna no aceptado por el formato, puede renombrar columnas asi\n",
    "# data_long = data_long.rename({'People(x1000)':'People_x_1000'}) \n",
    "data_long.to_stata('GHE2016_AllAges_long.dat')"
   ]
  },
  {
   "cell_type": "code",
   "execution_count": null,
   "metadata": {},
   "outputs": [],
   "source": [
    "# Guardar en formato excel \n",
    "data_long.to_excel('GHE2016_AllAges_long.xlsx')"
   ]
  },
  {
   "cell_type": "code",
   "execution_count": null,
   "metadata": {},
   "outputs": [],
   "source": [
    "# Guardar imagenes\n",
    "ggplot.save(p1, filename = 'p1_ggplot.pdf')\n",
    "\n",
    "fig1.savefig('p1_matplotlib.pdf')"
   ]
  },
  {
   "cell_type": "markdown",
   "metadata": {},
   "source": [
    "### EJERCICIO 10 - Haga una gráfica y guardela \n",
    "\n",
    "Gráfique la evolución a través de los años del nombre Mary para mujer en la base `babynames`. Guarde la gráfica en un archivo que se llame `mi_primera_figura.png`. Utilicé matplotlib.\n"
   ]
  },
  {
   "cell_type": "code",
   "execution_count": null,
   "metadata": {},
   "outputs": [],
   "source": []
  }
 ],
 "metadata": {
  "kernelspec": {
   "display_name": "Python 3",
   "language": "python",
   "name": "python3"
  },
  "language_info": {
   "codemirror_mode": {
    "name": "ipython",
    "version": 3
   },
   "file_extension": ".py",
   "mimetype": "text/x-python",
   "name": "python",
   "nbconvert_exporter": "python",
   "pygments_lexer": "ipython3",
   "version": "3.7.6"
  },
  "toc-showtags": true
 },
 "nbformat": 4,
 "nbformat_minor": 4
}
